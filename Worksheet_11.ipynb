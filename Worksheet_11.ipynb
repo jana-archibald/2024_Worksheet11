{
 "cells": [
  {
   "cell_type": "markdown",
   "id": "e2bc7c01",
   "metadata": {
    "editable": false
   },
   "source": [
    "# Worksheet 11: More Inference"
   ]
  },
  {
   "cell_type": "markdown",
   "id": "124230b0",
   "metadata": {
    "editable": false
   },
   "source": [
    "## Objectives: ##\n",
    "\n",
    "Practice with hypothesis tests and confidence intervals in different contexts.\n",
    "\n",
    "## Instructions: ##\n",
    "* Do NOT round any of the values unless your are explicitly told to do so in the question.\n",
    "* You can compute the required values using R as your calculator.\n",
    "\n",
    "## Formulae: ##\n",
    "A confidence interval is calculated by finding\n",
    "$(point\\  \\  \\  estimate) \\pm multiplier\\times SE$\n",
    "\n",
    "Standard Error\n",
    "\n",
    "Standard error for $\\bar{x}$\n",
    "\n",
    "$SE(\\bar{x})=\\frac{\\sigma}{\\sqrt{n}}$\n",
    "\n",
    "$SE(\\bar{x_1}-\\bar{x_2})=\\sqrt{\\frac{\\sigma_1^2}{n_1}+\\frac{\\sigma_2^2}{n_2}}$\n",
    "\n",
    "Standard error for $\\hat{p}$\n",
    "\n",
    "$SE(\\hat{p})=\\sqrt{\\frac{p(1-p)}{n}}$\n",
    "\n",
    "\n",
    "Test statistic \n",
    "\n",
    "$t=\\frac{\\bar{x}-\\mu_0}{\\frac{s}{\\sqrt{n}}}$\n",
    "\n",
    "$t=\\frac{(\\bar{x_1}-\\bar{x_2})-0}{\\sqrt{\\frac{s_1}{n_1}+\\frac{s_2}{n_2}}}$\n",
    "\n",
    "$z=\\frac{\\hat{p}-p_0}{\\sqrt{\\frac{p_0(1-p_0)}{n}}}$\n",
    "\n",
    "Degrees of Freedom\n",
    "\n",
    "$df=n-1$ \n",
    "\n",
    "$df=min(n_1-1, n_2-1)$"
   ]
  },
  {
   "cell_type": "markdown",
   "id": "05b376a9",
   "metadata": {
    "editable": false
   },
   "source": [
    "## Tools: ##\n",
    "\n",
    "To find the area under the t-distribution you can use the code below to find the area to the left of t, with degrees of freedom df.\n",
    "\n",
    "`pt(t,df)`\n",
    "\n",
    "To find the cut off that will have area a to the left you can use the code \n",
    "\n",
    "`qt(a,df)`\n",
    "\n",
    "(Note that these work the same was as `pnorm` and `qnorm` but for t distributions.)\n",
    "\n",
    "To find mean or standard deviation for subsets of a data set we will use the `by` command. I have included the necessary code, \n",
    "\n",
    "`by(dataset$var1,dataset$var2, mean)` would compute the mean of variable 1, for the different groups in variable 2. (Variable 1 should be numerical and variable 2 should be categorical.)\n",
    "\n",
    "Remeber to summarize a categorical variable you can use the `table` command.\n",
    "\n",
    "If you would find it useful to have a graph to look at for one of these questions you can use the normalplot (defined below) just remember to run the code block for the normalplot. \n",
    "* Recall that to draw a normal curve with mean (m) and standard deviation (sd), that is shaded from min to max enter the command:\n",
    "  * `normalplot(m, sd, c(min, max))`\n",
    "* NOTE: You are not required to graph for any of this week's questions."
   ]
  },
  {
   "cell_type": "code",
   "execution_count": null,
   "id": "a35f233c",
   "metadata": {
    "editable": false
   },
   "outputs": [],
   "source": [
    "normalplot<-function(m,sd,region=0){\n",
    "  x<-seq(m-(3.5)*sd,m+(3.5)*sd,length=1000)\n",
    "  y<-dnorm(x,m,sd)\n",
    "  plot(x,y,type=\"l\",xlab=\"\",ylab=\"\", bty=\"n\", yaxt=\"n\")\n",
    "  z<-x[x>region[1]]\n",
    "  z<-z[z<region[2]]\n",
    "  polygon(c(region[1],z,region[2]),\n",
    "          c(0,dnorm(z,m,sd),0),col=\"gray\")\n",
    "  abline(v=m)\n",
    "  abline(h=0)}"
   ]
  },
  {
   "cell_type": "markdown",
   "id": "88b8ef2d",
   "metadata": {
    "editable": false
   },
   "source": [
    "## Data Information: ##\n",
    "\n",
    "## North Carolina births\n",
    "\n",
    "In 2004, the state of North Carolina released a large data set containing information on births recorded in this state. This data set is useful to researchers studying the relation between habits and practices of expectant mothers and the birth of their children. We will work with a random sample of observations from this data set.\n",
    "\n",
    "\n",
    "There are **809** observations in this dataset.\n",
    "\n",
    "\n",
    "#### Name: #### \n",
    "* `ncbirths` - a random* sample of 1998 births in North Carolina from 2004.\n",
    "\n",
    "#### Variables: ####\n",
    "* `fage`\tfather’s age in years.\n",
    "* `mage`\tmother’s age in years.\n",
    "* `mature`\tmaturity status of mother.\n",
    "* `mature`\tmaturity status of mother.\n",
    "* `weeks`\tlength of pregnancy in weeks.\n",
    "* `premie`\twhether the birth was classified as premature (premie) or full-term.\n",
    "* `visits`\tnumber of hospital visits during pregnancy.\n",
    "* `marital`\twhether mother is married or not married at birth.\n",
    "* `gained`\tweight gained by mother during pregnancy in pounds.\n",
    "* `weight`\tweight of the baby at birth in pounds.\n",
    "* `lowbirthweight`\twhether baby was classified as low birthweight (low) or not (not low).\n",
    "* `gender`\tgender of the baby, female or male.\n",
    "* `habit`\tstatus of the mother as a nonsmoker or a smoker.\n",
    "* `whitemom`\twhether mom is white or not white.\n",
    "\n",
    "If you read the code to load the data you can see that this isn't quite a random sample, and is a bit different from last week. (feel free to ask **Jana** why in class)"
   ]
  },
  {
   "cell_type": "code",
   "execution_count": null,
   "id": "47df1ff9",
   "metadata": {
    "editable": false
   },
   "outputs": [],
   "source": [
    "source(\"https://www.openintro.org/data/R/ncbirths.R\")\n",
    "ncbirths<-ncbirths[-which(is.na(ncbirths$gained)==TRUE | is.na(ncbirths$weeks)==TRUE | is.na(ncbirths$fage)==TRUE),]"
   ]
  },
  {
   "cell_type": "markdown",
   "id": "e24b3c08",
   "metadata": {
    "editable": false
   },
   "source": [
    "# Question 1: Is there a difference in the mean weight of babies of smokers vs non smokers?"
   ]
  },
  {
   "cell_type": "markdown",
   "id": "f09d7aad",
   "metadata": {
    "editable": false
   },
   "source": [
    "### Prepare:\n",
    "\n",
    "* a.  What are the parameters? What are the null and alternate hypothesis?\n",
    "\n",
    "* b. Will this be paired data? Or are the observations independent?\n",
    "\n",
    "#### We will use $\\alpha=0.01$ for this test.\n",
    "\n",
    "### Check\n",
    "\n",
    "We can assume that the sample is random, the data was collected independently, and 809 is less than 10% of the population. \n",
    "\n",
    "* c. Make a histogram by running the given code\n",
    "\n",
    "* d.Do you meet the requirements to perform a valid hypothesis test?\n",
    "\n",
    "### Calculate\n",
    "\n",
    "* e.  Calculate the necessary sample statistics. (You need to know the sample mean and sample standard deviation.)\n",
    "\n",
    "* f. Calculate the standard error and t-score \n",
    "\n",
    "* g. What is the estimated df, the degrees of freedom?\n",
    "\n",
    "* h. Compute the p-value\n",
    "\n",
    "### Conclude\n",
    "\n",
    "* i. State your conclusion."
   ]
  },
  {
   "cell_type": "markdown",
   "id": "ba1b0199",
   "metadata": {
    "editable": false
   },
   "source": [
    "### Answers\n",
    "\n",
    "### Prepare:\n",
    "\n",
    "* a.  What are the parameters? What are the null and alternate hypothesis?"
   ]
  },
  {
   "cell_type": "markdown",
   "id": "ac03d562",
   "metadata": {},
   "source": [
    "$H_0:  $\n",
    "\n",
    "$H_0:  $"
   ]
  },
  {
   "cell_type": "markdown",
   "id": "06c50443",
   "metadata": {
    "editable": false
   },
   "source": [
    "* b. Will this be paired data? Or are the observations independent?"
   ]
  },
  {
   "cell_type": "markdown",
   "id": "ad466cf3",
   "metadata": {},
   "source": [
    "Type your answer here"
   ]
  },
  {
   "cell_type": "markdown",
   "id": "d7bbaa04",
   "metadata": {},
   "source": [
    "#### We will use $\\alpha=0.01$ for this test."
   ]
  },
  {
   "cell_type": "markdown",
   "id": "9da47357",
   "metadata": {
    "editable": false
   },
   "source": [
    "* c. Make a histogram by running the given code"
   ]
  },
  {
   "cell_type": "code",
   "execution_count": null,
   "id": "8b98c3a1",
   "metadata": {
    "editable": false
   },
   "outputs": [],
   "source": [
    "par(mfrow=c(3,1))\n",
    "hist(ncbirths$weight[which(ncbirths$habit==\"nonsmoker\")],\n",
    "     main=\"Birth weights of babies whoes mothers are non smokers.\",xlab=\"Birth Weight in Lbs\")\n",
    "hist(ncbirths$weight[which(ncbirths$habit==\"smoker\")],\n",
    "     main=\"Birth weights of babies whoes mothers are smokers.\",xlab=\"Birth Weight in Lbs\")\n",
    "boxplot(ncbirths$weight~ncbirths$habit,horizontal=T,xlab=\"Birth Wweight (lbs)\")"
   ]
  },
  {
   "cell_type": "markdown",
   "id": "825bec96",
   "metadata": {
    "editable": false
   },
   "source": [
    "We can assume that the sample is random, the data was collected independently, and 809 is less than 10% of the population. \n",
    "\n",
    "You can verify below that there are 84 smokers in our sample and 725 non smokers.\n",
    "\n",
    "* d.Do you meet the requirements to perform a valid hypothesis test? Do you have any concerns?\n",
    "\n"
   ]
  },
  {
   "cell_type": "markdown",
   "id": "71590135",
   "metadata": {},
   "source": [
    "Type your answer here"
   ]
  },
  {
   "cell_type": "markdown",
   "id": "b405402a",
   "metadata": {
    "editable": false
   },
   "source": [
    "### Calculate \n",
    "\n",
    "* e.  Calculate the necessary sample statistics by running the code cells below."
   ]
  },
  {
   "cell_type": "code",
   "execution_count": null,
   "id": "cb20cac3",
   "metadata": {
    "editable": false
   },
   "outputs": [],
   "source": [
    "by(ncbirths$weight,ncbirths$habit,mean)"
   ]
  },
  {
   "cell_type": "markdown",
   "id": "48f063b8",
   "metadata": {
    "editable": false
   },
   "source": [
    "Calculate the sample standard deviations"
   ]
  },
  {
   "cell_type": "code",
   "execution_count": null,
   "id": "f44b726a",
   "metadata": {
    "editable": false
   },
   "outputs": [],
   "source": [
    "by(ncbirths$weight,ncbirths$habit,sd)"
   ]
  },
  {
   "cell_type": "markdown",
   "id": "946b9a6b",
   "metadata": {
    "editable": false
   },
   "source": [
    "You will need these values later"
   ]
  },
  {
   "cell_type": "code",
   "execution_count": null,
   "id": "8ad15df3",
   "metadata": {
    "editable": false
   },
   "outputs": [],
   "source": [
    "table(ncbirths$habit)"
   ]
  },
  {
   "cell_type": "markdown",
   "id": "dd00ab49",
   "metadata": {
    "editable": false
   },
   "source": [
    "* f. Calculate the standard error and t-score "
   ]
  },
  {
   "cell_type": "code",
   "execution_count": null,
   "id": "202fdedf",
   "metadata": {},
   "outputs": [],
   "source": []
  },
  {
   "cell_type": "code",
   "execution_count": null,
   "id": "652f1427",
   "metadata": {},
   "outputs": [],
   "source": []
  },
  {
   "cell_type": "markdown",
   "id": "77448d9b",
   "metadata": {
    "editable": false
   },
   "source": [
    "* g. What is the estimated df, the degrees of freedom?"
   ]
  },
  {
   "cell_type": "code",
   "execution_count": null,
   "id": "e1ce6dce",
   "metadata": {},
   "outputs": [],
   "source": []
  },
  {
   "cell_type": "markdown",
   "id": "166e70b1",
   "metadata": {
    "editable": false
   },
   "source": [
    "* h. Compute the p-value"
   ]
  },
  {
   "cell_type": "code",
   "execution_count": null,
   "id": "691be958",
   "metadata": {},
   "outputs": [],
   "source": []
  },
  {
   "cell_type": "markdown",
   "id": "3e5dcb2d",
   "metadata": {
    "editable": false
   },
   "source": [
    "* h. Conclusion"
   ]
  },
  {
   "cell_type": "markdown",
   "id": "204de46b",
   "metadata": {},
   "source": [
    "Type your answer here"
   ]
  },
  {
   "cell_type": "markdown",
   "id": "7dae45cc",
   "metadata": {
    "editable": false
   },
   "source": [
    "# Question 2: Confidence interval for the difference in mean mothers age and mean fathers age"
   ]
  },
  {
   "cell_type": "markdown",
   "id": "d61cdf28",
   "metadata": {
    "editable": false
   },
   "source": [
    "### Prepare:\n",
    "\n",
    "* a.  What are the parameters?\n",
    "\n",
    "* b. Will this be paired data? Or are the observations independent?\n",
    "\n",
    "### Check\n",
    "\n",
    "We can assume that the sample is random, the data was collected independently, and 809 is less than 10% of the population. \n",
    "\n",
    "* c. Make a histogram for the difference in age.\n",
    "\n",
    "* d.Do you meet the requirements to compute a valid confidence interval?\n",
    "\n",
    "### Calculate\n",
    "\n",
    "* e.  Calculate the necessary sample statistics. (You need to know the sample mean and sample standard deviation.)\n",
    "\n",
    "* f. Find the t* multiplier\n",
    "\n",
    "* g. What is df, the degrees of freedom?\n",
    "\n",
    "* h. Compute the 90% confidence interval.\n",
    "\n",
    "### Conclude\n",
    "\n",
    "* i. Write one or two sentences interpreting this confidence interval."
   ]
  },
  {
   "cell_type": "markdown",
   "id": "896ec4b2",
   "metadata": {
    "editable": false
   },
   "source": [
    "### Prepare:\n",
    "\n",
    "* a. What are the parameters?\n"
   ]
  },
  {
   "cell_type": "markdown",
   "id": "ce438f11",
   "metadata": {},
   "source": [
    "Type your asnwer here"
   ]
  },
  {
   "cell_type": "markdown",
   "id": "d5fe3790",
   "metadata": {
    "editable": false
   },
   "source": [
    "* b. Will this be paired data? Or are the observations independent?"
   ]
  },
  {
   "cell_type": "markdown",
   "id": "017bb84a",
   "metadata": {},
   "source": [
    "type your answer here"
   ]
  },
  {
   "cell_type": "markdown",
   "id": "b74933ad",
   "metadata": {
    "editable": false
   },
   "source": [
    "* c. Make a histogram and boxplot for the difference in age."
   ]
  },
  {
   "cell_type": "code",
   "execution_count": null,
   "id": "b200fe91",
   "metadata": {},
   "outputs": [],
   "source": []
  },
  {
   "cell_type": "markdown",
   "id": "0b8344e3",
   "metadata": {
    "editable": false
   },
   "source": [
    "* c.Do you meet the requirements to compute a valid confidence interval?\n"
   ]
  },
  {
   "cell_type": "markdown",
   "id": "296aa2b0",
   "metadata": {},
   "source": [
    "type your answer here"
   ]
  },
  {
   "cell_type": "markdown",
   "id": "e5b2047e",
   "metadata": {
    "editable": false
   },
   "source": [
    "### Calculate\n",
    "\n",
    "* d.  Calculate the necessary sample statistics. (You need to know the sample mean and sample standard deviation.)"
   ]
  },
  {
   "cell_type": "code",
   "execution_count": null,
   "id": "43d4973e",
   "metadata": {},
   "outputs": [],
   "source": []
  },
  {
   "cell_type": "markdown",
   "id": "1588b898",
   "metadata": {
    "editable": false
   },
   "source": [
    "* e. Find the standard error"
   ]
  },
  {
   "cell_type": "code",
   "execution_count": null,
   "id": "2fbe3b5f",
   "metadata": {},
   "outputs": [],
   "source": [
    "4.3120134179754/sqrt(809)"
   ]
  },
  {
   "cell_type": "markdown",
   "id": "90b20ec8",
   "metadata": {},
   "source": [
    "* f.  What is df, the degrees of freedom?"
   ]
  },
  {
   "cell_type": "code",
   "execution_count": null,
   "id": "7502a9e4",
   "metadata": {},
   "outputs": [],
   "source": []
  },
  {
   "cell_type": "markdown",
   "id": "6e1c7e25",
   "metadata": {
    "editable": false
   },
   "source": [
    "* g. Find the t* multiplier for the 90% confidence interval"
   ]
  },
  {
   "cell_type": "code",
   "execution_count": null,
   "id": "78030f45",
   "metadata": {},
   "outputs": [],
   "source": []
  },
  {
   "cell_type": "markdown",
   "id": "8b6c46d3",
   "metadata": {
    "editable": false
   },
   "source": [
    "* h. Compute the 90% confidence interval.\n"
   ]
  },
  {
   "cell_type": "code",
   "execution_count": null,
   "id": "300cf1fa",
   "metadata": {},
   "outputs": [],
   "source": []
  },
  {
   "cell_type": "markdown",
   "id": "c2cb2721",
   "metadata": {
    "editable": false
   },
   "source": [
    "### Conclude\n",
    "\n",
    "* i. Write one or two sentences interpreting this confidence interval."
   ]
  },
  {
   "cell_type": "markdown",
   "id": "16053bec",
   "metadata": {},
   "source": [
    "type your conclusion here"
   ]
  },
  {
   "cell_type": "markdown",
   "id": "9a48ec2e",
   "metadata": {
    "editable": false
   },
   "source": [
    " # Question 3:  Are less than 20% of babies born early (premies)"
   ]
  },
  {
   "cell_type": "markdown",
   "id": "3f075790",
   "metadata": {
    "editable": false
   },
   "source": [
    "### Prepare:\n",
    "\n",
    "* a. What is the parameter of interest?  What are the hypothesis?\n",
    "\n",
    "\n",
    "#### We will use $\\alpha=0.01$ for this test.\n",
    "\n",
    "### Check\n",
    "\n",
    "We can assume that the sample is random, the data was collected independently, and 809 is less than 10% of the population. \n",
    "\n",
    "\n",
    "* b.Do you meet the requirements to perform a valid hypothesis test?\n",
    "\n",
    "### Calculate\n",
    "\n",
    "* c. Calculate the standard error.\n",
    "\n",
    "* d.  Calculate the necessary sample statistics. \n",
    "\n",
    "* e. Calculate the z score\n",
    "\n",
    "\n",
    "* f. Compute the p-value\n",
    "\n",
    "### Conclude\n",
    "\n",
    "* g. State your conclusion."
   ]
  },
  {
   "cell_type": "markdown",
   "id": "9c1b8813",
   "metadata": {
    "editable": false
   },
   "source": [
    "### Prepare:\n",
    "\n",
    "* a. What is the parameter of interest?  What are the hypothesis?"
   ]
  },
  {
   "cell_type": "markdown",
   "id": "fecf1b81",
   "metadata": {},
   "source": [
    "p the proportion of babies in the whole populaiton that are classified as premie.\n",
    "\n",
    "\n",
    "$H_0: $\n",
    "\n",
    "$H_a: $"
   ]
  },
  {
   "cell_type": "markdown",
   "id": "156a33b4",
   "metadata": {
    "editable": false
   },
   "source": [
    "#### We will use $\\alpha=0.01$ for this test.\n",
    "\n",
    "### Check\n",
    "\n",
    "We can assume that the sample is random, the data was collected independently, and 809 is less than 10% of the population. \n",
    "\n",
    "\n",
    "* b.Do you meet the requirements to perform a valid hypothesis test?"
   ]
  },
  {
   "cell_type": "markdown",
   "id": "e59073b7",
   "metadata": {},
   "source": [
    "type your answer here"
   ]
  },
  {
   "cell_type": "code",
   "execution_count": null,
   "id": "de4e529d",
   "metadata": {},
   "outputs": [],
   "source": []
  },
  {
   "cell_type": "markdown",
   "id": "866f3d44",
   "metadata": {
    "editable": false
   },
   "source": [
    "### Calculate\n",
    "\n",
    "* c. Calculate the standard error."
   ]
  },
  {
   "cell_type": "code",
   "execution_count": null,
   "id": "3e9661ed",
   "metadata": {},
   "outputs": [],
   "source": []
  },
  {
   "cell_type": "markdown",
   "id": "e5ba73f4",
   "metadata": {
    "editable": false
   },
   "source": [
    "* d.  Calculate the necessary sample statistic."
   ]
  },
  {
   "cell_type": "code",
   "execution_count": null,
   "id": "833bc917",
   "metadata": {},
   "outputs": [],
   "source": []
  },
  {
   "cell_type": "code",
   "execution_count": null,
   "id": "03b7e9ae",
   "metadata": {},
   "outputs": [],
   "source": []
  },
  {
   "cell_type": "markdown",
   "id": "96579c34",
   "metadata": {
    "editable": false
   },
   "source": [
    "* e. Calculate the z score"
   ]
  },
  {
   "cell_type": "code",
   "execution_count": null,
   "id": "98c184e7",
   "metadata": {},
   "outputs": [],
   "source": []
  },
  {
   "cell_type": "markdown",
   "id": "3042e621",
   "metadata": {
    "editable": false
   },
   "source": [
    "* f. Compute the p-value"
   ]
  },
  {
   "cell_type": "code",
   "execution_count": null,
   "id": "d4d97b40",
   "metadata": {},
   "outputs": [],
   "source": []
  },
  {
   "cell_type": "markdown",
   "id": "3c595dca",
   "metadata": {
    "editable": false
   },
   "source": [
    "### Conclude\n",
    "\n",
    "* g. State your conclusion."
   ]
  },
  {
   "cell_type": "markdown",
   "id": "d1a399c1",
   "metadata": {},
   "source": [
    "type your answer here"
   ]
  },
  {
   "cell_type": "code",
   "execution_count": null,
   "id": "150108f1",
   "metadata": {},
   "outputs": [],
   "source": []
  }
 ],
 "metadata": {
  "kernelspec": {
   "display_name": "R",
   "language": "R",
   "name": "ir"
  },
  "language_info": {
   "codemirror_mode": "r",
   "file_extension": ".r",
   "mimetype": "text/x-r-source",
   "name": "R",
   "pygments_lexer": "r",
   "version": "4.3.1"
  }
 },
 "nbformat": 4,
 "nbformat_minor": 5
}
